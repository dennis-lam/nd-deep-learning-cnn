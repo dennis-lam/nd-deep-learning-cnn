{
 "cells": [
  {
   "cell_type": "markdown",
   "metadata": {
    "collapsed": true
   },
   "source": [
    "# Image Classification\n",
    "In this project, you'll classify images from the [CIFAR-10 dataset](https://www.cs.toronto.edu/~kriz/cifar.html).  The dataset consists of airplanes, dogs, cats, and other objects. You'll preprocess the images, then train a convolutional neural network on all the samples. The images need to be normalized and the labels need to be one-hot encoded.  You'll get to apply what you learned and build a convolutional, max pooling, dropout, and fully connected layers.  At the end, you'll get to see your neural network's predictions on the sample images.\n",
    "## Get the Data\n",
    "Run the following cell to download the [CIFAR-10 dataset for python](https://www.cs.toronto.edu/~kriz/cifar-10-python.tar.gz)."
   ]
  },
  {
   "cell_type": "code",
   "execution_count": 149,
   "metadata": {},
   "outputs": [
    {
     "name": "stderr",
     "output_type": "stream",
     "text": [
      "CIFAR-10 Dataset: 171MB [04:58, 571KB/s]                                \n"
     ]
    },
    {
     "name": "stdout",
     "output_type": "stream",
     "text": [
      "All files found!\n"
     ]
    }
   ],
   "source": [
    "\"\"\"\n",
    "DON'T MODIFY ANYTHING IN THIS CELL THAT IS BELOW THIS LINE\n",
    "\"\"\"\n",
    "from urllib.request import urlretrieve\n",
    "from os.path import isfile, isdir\n",
    "from tqdm import tqdm\n",
    "import problem_unittests as tests\n",
    "import tarfile\n",
    "\n",
    "cifar10_dataset_folder_path = 'cifar-10-batches-py'\n",
    "\n",
    "class DLProgress(tqdm):\n",
    "    last_block = 0\n",
    "\n",
    "    def hook(self, block_num=1, block_size=1, total_size=None):\n",
    "        self.total = total_size\n",
    "        self.update((block_num - self.last_block) * block_size)\n",
    "        self.last_block = block_num\n",
    "\n",
    "if not isfile('cifar-10-python.tar.gz'):\n",
    "    with DLProgress(unit='B', unit_scale=True, miniters=1, desc='CIFAR-10 Dataset') as pbar:\n",
    "        urlretrieve(\n",
    "            'https://www.cs.toronto.edu/~kriz/cifar-10-python.tar.gz',\n",
    "            'cifar-10-python.tar.gz',\n",
    "            pbar.hook)\n",
    "\n",
    "if not isdir(cifar10_dataset_folder_path):\n",
    "    with tarfile.open('cifar-10-python.tar.gz') as tar:\n",
    "        tar.extractall()\n",
    "        tar.close()\n",
    "\n",
    "\n",
    "tests.test_folder_path(cifar10_dataset_folder_path)"
   ]
  },
  {
   "cell_type": "markdown",
   "metadata": {},
   "source": [
    "## Explore the Data\n",
    "The dataset is broken into batches to prevent your machine from running out of memory.  The CIFAR-10 dataset consists of 5 batches, named `data_batch_1`, `data_batch_2`, etc.. Each batch contains the labels and images that are one of the following:\n",
    "* airplane\n",
    "* automobile\n",
    "* bird\n",
    "* cat\n",
    "* deer\n",
    "* dog\n",
    "* frog\n",
    "* horse\n",
    "* ship\n",
    "* truck\n",
    "\n",
    "Understanding a dataset is part of making predictions on the data.  Play around with the code cell below by changing the `batch_id` and `sample_id`. The `batch_id` is the id for a batch (1-5). The `sample_id` is the id for a image and label pair in the batch.\n",
    "\n",
    "Ask yourself \"What are all possible labels?\", \"What is the range of values for the image data?\", \"Are the labels in order or random?\".  Answers to questions like these will help you preprocess the data and end up with better predictions."
   ]
  },
  {
   "cell_type": "code",
   "execution_count": 150,
   "metadata": {},
   "outputs": [
    {
     "name": "stdout",
     "output_type": "stream",
     "text": [
      "\n",
      "Stats of batch 1:\n",
      "Samples: 10000\n",
      "Label Counts: {0: 1005, 1: 974, 2: 1032, 3: 1016, 4: 999, 5: 937, 6: 1030, 7: 1001, 8: 1025, 9: 981}\n",
      "First 20 Labels: [6, 9, 9, 4, 1, 1, 2, 7, 8, 3, 4, 7, 7, 2, 9, 9, 9, 3, 2, 6]\n",
      "\n",
      "Example of Image 5:\n",
      "Image - Min Value: 0 Max Value: 252\n",
      "Image - Shape: (32, 32, 3)\n",
      "Label - Label Id: 1 Name: automobile\n",
      "\n",
      "Stats of batch 2:\n",
      "Samples: 10000\n",
      "Label Counts: {0: 984, 1: 1007, 2: 1010, 3: 995, 4: 1010, 5: 988, 6: 1008, 7: 1026, 8: 987, 9: 985}\n",
      "First 20 Labels: [1, 6, 6, 8, 8, 3, 4, 6, 0, 6, 0, 3, 6, 6, 5, 4, 8, 3, 2, 6]\n",
      "\n",
      "Example of Image 5:\n",
      "Image - Min Value: 3 Max Value: 219\n",
      "Image - Shape: (32, 32, 3)\n",
      "Label - Label Id: 3 Name: cat\n",
      "\n",
      "Stats of batch 3:\n",
      "Samples: 10000\n",
      "Label Counts: {0: 994, 1: 1042, 2: 965, 3: 997, 4: 990, 5: 1029, 6: 978, 7: 1015, 8: 961, 9: 1029}\n",
      "First 20 Labels: [8, 5, 0, 6, 9, 2, 8, 3, 6, 2, 7, 4, 6, 9, 0, 0, 7, 3, 7, 2]\n",
      "\n",
      "Example of Image 5:\n",
      "Image - Min Value: 9 Max Value: 255\n",
      "Image - Shape: (32, 32, 3)\n",
      "Label - Label Id: 2 Name: bird\n",
      "\n",
      "Stats of batch 4:\n",
      "Samples: 10000\n",
      "Label Counts: {0: 1003, 1: 963, 2: 1041, 3: 976, 4: 1004, 5: 1021, 6: 1004, 7: 981, 8: 1024, 9: 983}\n",
      "First 20 Labels: [0, 6, 0, 2, 7, 2, 1, 2, 4, 1, 5, 6, 6, 3, 1, 3, 5, 5, 8, 1]\n",
      "\n",
      "Example of Image 5:\n",
      "Image - Min Value: 13 Max Value: 169\n",
      "Image - Shape: (32, 32, 3)\n",
      "Label - Label Id: 2 Name: bird\n",
      "\n",
      "Stats of batch 5:\n",
      "Samples: 10000\n",
      "Label Counts: {0: 1014, 1: 1014, 2: 952, 3: 1016, 4: 997, 5: 1025, 6: 980, 7: 977, 8: 1003, 9: 1022}\n",
      "First 20 Labels: [1, 8, 5, 1, 5, 7, 4, 3, 8, 2, 7, 2, 0, 1, 5, 9, 6, 2, 0, 8]\n",
      "\n",
      "Example of Image 5:\n",
      "Image - Min Value: 1 Max Value: 255\n",
      "Image - Shape: (32, 32, 3)\n",
      "Label - Label Id: 7 Name: horse\n"
     ]
    },
    {
     "data": {
      "image/png": "[encoded data removed]",
      "text/plain": [
       "<matplotlib.figure.Figure at 0x1170b7080>"
      ]
     },
     "metadata": {
      "image/png": {
       "height": 250,
       "width": 253
      }
     },
     "output_type": "display_data"
    }
   ],
   "source": [
    "%matplotlib inline\n",
    "%config InlineBackend.figure_format = 'retina'\n",
    "\n",
    "import helper\n",
    "import numpy as np\n",
    "\n",
    "# Explore the dataset\n",
    "for batch_id in range(1,6):\n",
    "    sample_id = 5\n",
    "    helper.display_stats(cifar10_dataset_folder_path, batch_id, sample_id)"
   ]
  },
  {
   "cell_type": "markdown",
   "metadata": {},
   "source": [
    "## Implement Preprocess Functions\n",
    "### Normalize\n",
    "In the cell below, implement the `normalize` function to take in image data, `x`, and return it as a normalized Numpy array. The values should be in the range of 0 to 1, inclusive.  The return object should be the same shape as `x`."
   ]
  },
  {
   "cell_type": "code",
   "execution_count": 151,
   "metadata": {},
   "outputs": [
    {
     "name": "stdout",
     "output_type": "stream",
     "text": [
      "Tests Passed\n"
     ]
    }
   ],
   "source": [
    "def normalize(x):\n",
    "    \"\"\"\n",
    "    Normalize a list of sample image data in the range of 0 to 1\n",
    "    : x: List of image data.  The image shape is (32, 32, 3)\n",
    "    : return: Numpy array of normalize data\n",
    "    \"\"\"\n",
    "    # TODO: Implement Function\n",
    "    return x/255\n",
    "\n",
    "\n",
    "\"\"\"\n",
    "DON'T MODIFY ANYTHING IN THIS CELL THAT IS BELOW THIS LINE\n",
    "\"\"\"\n",
    "tests.test_normalize(normalize)"
   ]
  },
  {
   "cell_type": "markdown",
   "metadata": {},
   "source": [
    "### One-hot encode\n",
    "Just like the previous code cell, you'll be implementing a function for preprocessing.  This time, you'll implement the `one_hot_encode` function. The input, `x`, are a list of labels.  Implement the function to return the list of labels as One-Hot encoded Numpy array.  The possible values for labels are 0 to 9. The one-hot encoding function should return the same encoding for each value between each call to `one_hot_encode`.  Make sure to save the map of encodings outside the function.\n",
    "\n",
    "**Hint:**\n",
    "\n",
    "Look into LabelBinarizer in the preprocessing module of sklearn."
   ]
  },
  {
   "cell_type": "code",
   "execution_count": 152,
   "metadata": {},
   "outputs": [
    {
     "name": "stdout",
     "output_type": "stream",
     "text": [
      "label_choices : [0, 1, 2, 3, 4, 5, 6, 7, 8, 9]\n",
      "Tests Passed\n"
     ]
    }
   ],
   "source": [
    "from sklearn.preprocessing import LabelBinarizer\n",
    "\n",
    "label_choices = list(range(0,10))\n",
    "print(\"label_choices : {}\".format(label_choices))\n",
    "\n",
    "def one_hot_encode(x):\n",
    "    \"\"\"\n",
    "    One hot encode a list of sample labels. Return a one-hot encoded vector for each label.\n",
    "    : x: List of sample Labels\n",
    "    : return: Numpy array of one-hot encoded labels\n",
    "    \"\"\"\n",
    "    # TODO: Implement Function\n",
    "    lb =LabelBinarizer()\n",
    "    lb.fit(label_choices)\n",
    "    return lb.transform(x)\n",
    "\n",
    "\n",
    "\"\"\"\n",
    "DON'T MODIFY ANYTHING IN THIS CELL THAT IS BELOW THIS LINE\n",
    "\"\"\"\n",
    "tests.test_one_hot_encode(one_hot_encode)"
   ]
  },
  {
   "cell_type": "markdown",
   "metadata": {},
   "source": [
    "### Randomize Data\n",
    "As you saw from exploring the data above, the order of the samples are randomized.  It doesn't hurt to randomize it again, but you don't need to for this dataset."
   ]
  },
  {
   "cell_type": "markdown",
   "metadata": {},
   "source": [
    "## Preprocess all the data and save it\n",
    "Running the code cell below will preprocess all the CIFAR-10 data and save it to file. The code below also uses 10% of the training data for validation."
   ]
  },
  {
   "cell_type": "code",
   "execution_count": 153,
   "metadata": {
    "collapsed": true
   },
   "outputs": [],
   "source": [
    "\"\"\"\n",
    "DON'T MODIFY ANYTHING IN THIS CELL\n",
    "\"\"\"\n",
    "# Preprocess Training, Validation, and Testing Data\n",
    "helper.preprocess_and_save_data(cifar10_dataset_folder_path, normalize, one_hot_encode)"
   ]
  },
  {
   "cell_type": "markdown",
   "metadata": {},
   "source": [
    "# Check Point\n",
    "This is your first checkpoint.  If you ever decide to come back to this notebook or have to restart the notebook, you can start from here.  The preprocessed data has been saved to disk."
   ]
  },
  {
   "cell_type": "code",
   "execution_count": 1,
   "metadata": {
    "collapsed": true
   },
   "outputs": [],
   "source": [
    "\"\"\"\n",
    "DON'T MODIFY ANYTHING IN THIS CELL\n",
    "\"\"\"\n",
    "import pickle\n",
    "import problem_unittests as tests\n",
    "import helper\n",
    "\n",
    "# Load the Preprocessed Validation data\n",
    "valid_features, valid_labels = pickle.load(open('preprocess_validation.p', mode='rb'))"
   ]
  },
  {
   "cell_type": "markdown",
   "metadata": {},
   "source": [
    "## Build the network\n",
    "For the neural network, you'll build each layer into a function.  Most of the code you've seen has been outside of functions. To test your code more thoroughly, we require that you put each layer in a function.  This allows us to give you better feedback and test for simple mistakes using our unittests before you submit your project.\n",
    "\n",
    ">**Note:** If you're finding it hard to dedicate enough time for this course each week, we've provided a small shortcut to this part of the project. In the next couple of problems, you'll have the option to use classes from the [TensorFlow Layers](https://www.tensorflow.org/api_docs/python/tf/layers) or [TensorFlow Layers (contrib)](https://www.tensorflow.org/api_guides/python/contrib.layers) packages to build each layer, except the layers you build in the \"Convolutional and Max Pooling Layer\" section.  TF Layers is similar to Keras's and TFLearn's abstraction to layers, so it's easy to pickup.\n",
    "\n",
    ">However, if you would like to get the most out of this course, try to solve all the problems _without_ using anything from the TF Layers packages. You **can** still use classes from other packages that happen to have the same name as ones you find in TF Layers! For example, instead of using the TF Layers version of the `conv2d` class, [tf.layers.conv2d](https://www.tensorflow.org/api_docs/python/tf/layers/conv2d), you would want to use the TF Neural Network version of `conv2d`, [tf.nn.conv2d](https://www.tensorflow.org/api_docs/python/tf/nn/conv2d). \n",
    "\n",
    "Let's begin!\n",
    "\n",
    "### Input\n",
    "The neural network needs to read the image data, one-hot encoded labels, and dropout keep probability. Implement the following functions\n",
    "* Implement `neural_net_image_input`\n",
    " * Return a [TF Placeholder](https://www.tensorflow.org/api_docs/python/tf/placeholder)\n",
    " * Set the shape using `image_shape` with batch size set to `None`.\n",
    " * Name the TensorFlow placeholder \"x\" using the TensorFlow `name` parameter in the [TF Placeholder](https://www.tensorflow.org/api_docs/python/tf/placeholder).\n",
    "* Implement `neural_net_label_input`\n",
    " * Return a [TF Placeholder](https://www.tensorflow.org/api_docs/python/tf/placeholder)\n",
    " * Set the shape using `n_classes` with batch size set to `None`.\n",
    " * Name the TensorFlow placeholder \"y\" using the TensorFlow `name` parameter in the [TF Placeholder](https://www.tensorflow.org/api_docs/python/tf/placeholder).\n",
    "* Implement `neural_net_keep_prob_input`\n",
    " * Return a [TF Placeholder](https://www.tensorflow.org/api_docs/python/tf/placeholder) for dropout keep probability.\n",
    " * Name the TensorFlow placeholder \"keep_prob\" using the TensorFlow `name` parameter in the [TF Placeholder](https://www.tensorflow.org/api_docs/python/tf/placeholder).\n",
    "\n",
    "These names will be used at the end of the project to load your saved model.\n",
    "\n",
    "Note: `None` for shapes in TensorFlow allow for a dynamic size."
   ]
  },
  {
   "cell_type": "code",
   "execution_count": 2,
   "metadata": {},
   "outputs": [
    {
     "name": "stdout",
     "output_type": "stream",
     "text": [
      "Image Input Tests Passed.\n",
      "Label Input Tests Passed.\n",
      "Keep Prob Tests Passed.\n"
     ]
    }
   ],
   "source": [
    "import tensorflow as tf\n",
    "import numpy as np\n",
    "\n",
    "def neural_net_image_input(image_shape):\n",
    "    \"\"\"\n",
    "    Return a Tensor for a batch of image input\n",
    "    : image_shape: Shape of the images\n",
    "    : return: Tensor for image input.\n",
    "    \"\"\"\n",
    "    # TODO: Implement Function\n",
    "    shape = np.append(None,image_shape)\n",
    "    return tf.placeholder(tf.float32, shape=shape, name='x' )\n",
    "\n",
    "\n",
    "def neural_net_label_input(n_classes):\n",
    "    \"\"\"\n",
    "    Return a Tensor for a batch of label input\n",
    "    : n_classes: Number of classes\n",
    "    : return: Tensor for label input.\n",
    "    \"\"\"\n",
    "    # TODO: Implement Function\n",
    "    shape = np.append(None,n_classes)\n",
    "    return tf.placeholder(tf.float32,shape=shape,name='y')\n",
    "\n",
    "\n",
    "def neural_net_keep_prob_input():\n",
    "    \"\"\"\n",
    "    Return a Tensor for keep probability\n",
    "    : return: Tensor for keep probability.\n",
    "    \"\"\"\n",
    "    # TODO: Implement Function\n",
    "    return tf.placeholder(tf.float32,name = 'keep_prob')\n",
    "\n",
    "\n",
    "\"\"\"\n",
    "DON'T MODIFY ANYTHING IN THIS CELL THAT IS BELOW THIS LINE\n",
    "\"\"\"\n",
    "tf.reset_default_graph()\n",
    "tests.test_nn_image_inputs(neural_net_image_input)\n",
    "tests.test_nn_label_inputs(neural_net_label_input)\n",
    "tests.test_nn_keep_prob_inputs(neural_net_keep_prob_input)"
   ]
  },
  {
   "cell_type": "markdown",
   "metadata": {},
   "source": [
    "### Convolution and Max Pooling Layer\n",
    "Convolution layers have a lot of success with images. For this code cell, you should implement the function `conv2d_maxpool` to apply convolution then max pooling:\n",
    "* Create the weight and bias using `conv_ksize`, `conv_num_outputs` and the shape of `x_tensor`.\n",
    "* Apply a convolution to `x_tensor` using weight and `conv_strides`.\n",
    " * We recommend you use same padding, but you're welcome to use any padding.\n",
    "* Add bias\n",
    "* Add a nonlinear activation to the convolution.\n",
    "* Apply Max Pooling using `pool_ksize` and `pool_strides`.\n",
    " * We recommend you use same padding, but you're welcome to use any padding.\n",
    "\n",
    "**Note:** You **can't** use [TensorFlow Layers](https://www.tensorflow.org/api_docs/python/tf/layers) or [TensorFlow Layers (contrib)](https://www.tensorflow.org/api_guides/python/contrib.layers) for **this** layer, but you can still use TensorFlow's [Neural Network](https://www.tensorflow.org/api_docs/python/tf/nn) package. You may still use the shortcut option for all the **other** layers.\n",
    "\n",
    "** Hint: **\n",
    "\n",
    "When unpacking values as an argument in Python, look into the [unpacking](https://docs.python.org/3/tutorial/controlflow.html#unpacking-argument-lists) operator. "
   ]
  },
  {
   "cell_type": "code",
   "execution_count": 37,
   "metadata": {},
   "outputs": [
    {
     "name": "stdout",
     "output_type": "stream",
     "text": [
      "Tests Passed\n"
     ]
    }
   ],
   "source": [
    "def create_weight(conv_ksize, conv_num_outputs, x_tensor):\n",
    "    input_depth = x_tensor.shape[3].value\n",
    "    shape = [conv_ksize[0],conv_ksize[1],input_depth,conv_num_outputs]\n",
    "    return tf.Variable(tf.truncated_normal(shape, stddev=0.1))\n",
    "\n",
    "def create_bias(conv_num_outputs):\n",
    "    return tf.Variable(tf.constant(0.1,shape=[conv_num_outputs]))\n",
    "\n",
    "def conv2d(weight,bias,x_tensor,conv_strides):\n",
    "    strides = [1,conv_strides[0],conv_strides[1],1]\n",
    "    conv = tf.nn.conv2d(x_tensor, weight,strides, padding='SAME')\n",
    "    conv = tf.nn.bias_add(conv, bias)\n",
    "    return tf.nn.relu(conv)\n",
    "\n",
    "def maxpool2d(tensor, pool_ksize, pool_strides):\n",
    "    ksize = [1,pool_ksize[0],pool_ksize[1], 1]\n",
    "    strides = [1,pool_strides[0],pool_strides[1],1 ]\n",
    "    return tf.nn.max_pool(tensor, ksize=ksize, strides=strides, padding='SAME')\n",
    "\n",
    "def conv2d_maxpool(x_tensor, conv_num_outputs, conv_ksize, conv_strides, pool_ksize, pool_strides):\n",
    "    \"\"\"\n",
    "    Apply convolution then max pooling to x_tensor\n",
    "    :param x_tensor: TensorFlow Tensor\n",
    "    :param conv_num_outputs: Number of outputs for the convolutional layer\n",
    "    :param conv_ksize: kernal size 2-D Tuple for the convolutional layer\n",
    "    :param conv_strides: Stride 2-D Tuple for convolution\n",
    "    :param pool_ksize: kernal size 2-D Tuple for pool\n",
    "    :param pool_strides: Stride 2-D Tuple for pool\n",
    "    : return: A tensor that represents convolution and max pooling of x_tensor\n",
    "    \"\"\"\n",
    "    # TODO: Implement Function\n",
    "\n",
    "    weight = create_weight(conv_ksize, conv_num_outputs, x_tensor)\n",
    "    bias = create_bias(conv_num_outputs)\n",
    "    conv = conv2d(weight, bias, x_tensor, conv_strides)\n",
    "    conv = maxpool2d(conv,pool_ksize,pool_strides )\n",
    "    return conv \n",
    "\n",
    "\n",
    "\"\"\"\n",
    "DON'T MODIFY ANYTHING IN THIS CELL THAT IS BELOW THIS LINE\n",
    "\"\"\"\n",
    "tests.test_con_pool(conv2d_maxpool)"
   ]
  },
  {
   "cell_type": "markdown",
   "metadata": {},
   "source": [
    "### Flatten Layer\n",
    "Implement the `flatten` function to change the dimension of `x_tensor` from a 4-D tensor to a 2-D tensor.  The output should be the shape (*Batch Size*, *Flattened Image Size*). Shortcut option: you can use classes from the [TensorFlow Layers](https://www.tensorflow.org/api_docs/python/tf/layers) or [TensorFlow Layers (contrib)](https://www.tensorflow.org/api_guides/python/contrib.layers) packages for this layer. For more of a challenge, only use other TensorFlow packages."
   ]
  },
  {
   "cell_type": "code",
   "execution_count": 38,
   "metadata": {},
   "outputs": [
    {
     "name": "stdout",
     "output_type": "stream",
     "text": [
      "Tests Passed\n"
     ]
    }
   ],
   "source": [
    "def flatten(x_tensor):\n",
    "    \"\"\"\n",
    "    Flatten x_tensor to (Batch Size, Flattened Image Size)\n",
    "    : x_tensor: A tensor of size (Batch Size, ...), where ... are the image dimensions.\n",
    "    : return: A tensor of size (Batch Size, Flattened Image Size).\n",
    "    \"\"\"\n",
    "    # TODO: Implement Function\n",
    "    shape = x_tensor.get_shape().as_list()\n",
    "    new_size = shape[1] * shape[2] * shape[3]\n",
    "    flatten_tensor = tf.reshape(x_tensor, [-1, new_size])\n",
    "    return flatten_tensor\n",
    "\n",
    "\n",
    "\"\"\"\n",
    "DON'T MODIFY ANYTHING IN THIS CELL THAT IS BELOW THIS LINE\n",
    "\"\"\"\n",
    "tests.test_flatten(flatten)"
   ]
  },
  {
   "cell_type": "markdown",
   "metadata": {},
   "source": [
    "### Fully-Connected Layer\n",
    "Implement the `fully_conn` function to apply a fully connected layer to `x_tensor` with the shape (*Batch Size*, *num_outputs*). Shortcut option: you can use classes from the [TensorFlow Layers](https://www.tensorflow.org/api_docs/python/tf/layers) or [TensorFlow Layers (contrib)](https://www.tensorflow.org/api_guides/python/contrib.layers) packages for this layer. For more of a challenge, only use other TensorFlow packages."
   ]
  },
  {
   "cell_type": "code",
   "execution_count": 40,
   "metadata": {},
   "outputs": [
    {
     "name": "stdout",
     "output_type": "stream",
     "text": [
      "Tests Passed\n"
     ]
    }
   ],
   "source": [
    "def fully_conn(x_tensor, num_outputs):\n",
    "    \"\"\"\n",
    "    Apply a fully connected layer to x_tensor using weight and bias\n",
    "    : x_tensor: A 2-D tensor where the first dimension is batch size.\n",
    "    : num_outputs: The number of output that the new tensor should be.\n",
    "    : return: A 2-D tensor where the second dimension is num_outputs.\n",
    "    \"\"\"\n",
    "    # TODO: Implement Function\n",
    "    num_inputs = x_tensor.shape[1].value\n",
    "    weights = tf.Variable(tf.truncated_normal([num_inputs, num_outputs], stddev=0.1))\n",
    "    bias = tf.Variable(tf.constant(0.1,shape=[ num_outputs]))\n",
    "    layer =  tf.add(tf.matmul(x_tensor, weights), bias)\n",
    "    return tf.nn.relu(layer)\n",
    "\n",
    "\"\"\"\n",
    "DON'T MODIFY ANYTHING IN THIS CELL THAT IS BELOW THIS LINE\n",
    "\"\"\"\n",
    "tests.test_fully_conn(fully_conn)"
   ]
  },
  {
   "cell_type": "markdown",
   "metadata": {},
   "source": [
    "### Output Layer\n",
    "Implement the `output` function to apply a fully connected layer to `x_tensor` with the shape (*Batch Size*, *num_outputs*). Shortcut option: you can use classes from the [TensorFlow Layers](https://www.tensorflow.org/api_docs/python/tf/layers) or [TensorFlow Layers (contrib)](https://www.tensorflow.org/api_guides/python/contrib.layers) packages for this layer. For more of a challenge, only use other TensorFlow packages.\n",
    "\n",
    "**Note:** Activation, softmax, or cross entropy should **not** be applied to this."
   ]
  },
  {
   "cell_type": "code",
   "execution_count": 41,
   "metadata": {},
   "outputs": [
    {
     "name": "stdout",
     "output_type": "stream",
     "text": [
      "Tests Passed\n"
     ]
    }
   ],
   "source": [
    "def output(x_tensor, num_outputs):\n",
    "    \"\"\"\n",
    "    Apply a output layer to x_tensor using weight and bias\n",
    "    : x_tensor: A 2-D tensor where the first dimension is batch size.\n",
    "    : num_outputs: The number of output that the new tensor should be.\n",
    "    : return: A 2-D tensor where the second dimension is num_outputs.\n",
    "    \"\"\"\n",
    "    # TODO: Implement Function\n",
    "    num_inputs = x_tensor.shape[1].value\n",
    "    weights = tf.Variable(tf.truncated_normal([num_inputs, num_outputs], stddev=0.1))\n",
    "    bias = tf.Variable(tf.constant(0.1,shape=[ num_outputs]))\n",
    "    layer =  tf.add(tf.matmul(x_tensor, weights), bias)\n",
    "    return layer\n",
    "\n",
    "\"\"\"\n",
    "DON'T MODIFY ANYTHING IN THIS CELL THAT IS BELOW THIS LINE\n",
    "\"\"\"\n",
    "tests.test_output(output)"
   ]
  },
  {
   "cell_type": "markdown",
   "metadata": {},
   "source": [
    "### Create Convolutional Model\n",
    "Implement the function `conv_net` to create a convolutional neural network model. The function takes in a batch of images, `x`, and outputs logits.  Use the layers you created above to create this model:\n",
    "\n",
    "* Apply 1, 2, or 3 Convolution and Max Pool layers\n",
    "* Apply a Flatten Layer\n",
    "* Apply 1, 2, or 3 Fully Connected Layers\n",
    "* Apply an Output Layer\n",
    "* Return the output\n",
    "* Apply [TensorFlow's Dropout](https://www.tensorflow.org/api_docs/python/tf/nn/dropout) to one or more layers in the model using `keep_prob`. "
   ]
  },
  {
   "cell_type": "code",
   "execution_count": 42,
   "metadata": {},
   "outputs": [
    {
     "name": "stdout",
     "output_type": "stream",
     "text": [
      "conv_layer1 : Tensor(\"MaxPool:0\", shape=(?, 16, 16, 64), dtype=float32)\n",
      "conv_layer2 : Tensor(\"MaxPool_1:0\", shape=(?, 8, 8, 96), dtype=float32)\n",
      "conv_layer3 : Tensor(\"MaxPool_2:0\", shape=(?, 4, 4, 128), dtype=float32)\n",
      "flatten_layer : Tensor(\"Reshape:0\", shape=(?, 2048), dtype=float32)\n",
      "full_layer1 : Tensor(\"dropout/mul:0\", shape=(?, 1024), dtype=float32)\n",
      "full_layer2 : Tensor(\"Relu_4:0\", shape=(?, 256), dtype=float32)\n",
      "conv_layer1 : Tensor(\"MaxPool_3:0\", shape=(?, 16, 16, 64), dtype=float32)\n",
      "conv_layer2 : Tensor(\"MaxPool_4:0\", shape=(?, 8, 8, 96), dtype=float32)\n",
      "conv_layer3 : Tensor(\"MaxPool_5:0\", shape=(?, 4, 4, 128), dtype=float32)\n",
      "flatten_layer : Tensor(\"Reshape_4:0\", shape=(?, 2048), dtype=float32)\n",
      "full_layer1 : Tensor(\"dropout_1/mul:0\", shape=(?, 1024), dtype=float32)\n",
      "full_layer2 : Tensor(\"Relu_9:0\", shape=(?, 256), dtype=float32)\n",
      "Neural Network Built!\n"
     ]
    }
   ],
   "source": [
    "\n",
    "def conv_net(x, keep_prob):\n",
    "    \"\"\"\n",
    "    Create a convolutional neural network model\n",
    "    : x: Placeholder tensor that holds image data.\n",
    "    : keep_prob: Placeholder tensor that hold dropout keep probability.\n",
    "    : return: Tensor that represents logits\n",
    "    \"\"\"\n",
    "    # TODO: Apply 1, 2, or 3 Convolution and Max Pool layers\n",
    "    #    Play around with different number of outputs, kernel size and stride\n",
    "    # Function Definition from Above:\n",
    "    #    conv2d_maxpool(x_tensor, conv_num_outputs, conv_ksize, conv_strides, pool_ksize, pool_strides)\n",
    "    conv_layer1 = conv2d_maxpool(x, \\\n",
    "                           conv_num_outputs= 64, \\\n",
    "                           conv_ksize= [2,2], \\\n",
    "                           conv_strides= [1,1], \\\n",
    "                           pool_ksize = [2,2], \\\n",
    "                           pool_strides = [2,2])\n",
    "    print (\"conv_layer1 : {}\".format(conv_layer1))\n",
    "        \n",
    "    conv_layer2 = conv2d_maxpool(conv_layer1, \\\n",
    "                           conv_num_outputs= 96, \\\n",
    "                           conv_ksize= [2,2], \\\n",
    "                           conv_strides= [1,1], \\\n",
    "                           pool_ksize = [2,2], \\\n",
    "                           pool_strides = [2,2])\n",
    "    print (\"conv_layer2 : {}\".format(conv_layer2))\n",
    "    \n",
    "    conv_layer3 = conv2d_maxpool(conv_layer2, \\\n",
    "                           conv_num_outputs= 128, \\\n",
    "                           conv_ksize= [2,2], \\\n",
    "                           conv_strides= [1,1], \\\n",
    "                           pool_ksize = [2,2], \\\n",
    "                           pool_strides = [2,2])\n",
    "    print (\"conv_layer3 : {}\".format(conv_layer3))\n",
    "\n",
    "\n",
    "    # TODO: Apply a Flatten Layer\n",
    "    # Function Definition from Above:\n",
    "    #   flatten(x_tensor)\n",
    "    flatten_layer = flatten(conv_layer3)\n",
    "    print (\"flatten_layer : {}\".format(flatten_layer))\n",
    "        \n",
    "    # TODO: Apply 1, 2, or 3 Fully Connected Layers\n",
    "    #    Play around with different number of outputs\n",
    "    # Function Definition from Above:\n",
    "    #  fully_conn(x_tensor, num_outputs)\n",
    "    full_layer1 = fully_conn(flatten_layer, 1024)\n",
    "    full_layer1 =  tf.nn.dropout(full_layer1, keep_prob)\n",
    "    print (\"full_layer1 : {}\".format(full_layer1))\n",
    "    \n",
    "    full_layer2 =  fully_conn(full_layer1, 256)\n",
    "    print (\"full_layer2 : {}\".format(full_layer2))\n",
    "\n",
    "    \n",
    "    # TODO: Apply an Output Layer\n",
    "    #    Set this to the number of classes\n",
    "    # Function Definition from Above:\n",
    "    #   output(x_tensor, num_outputs)\n",
    "    output_layer = output(full_layer2, 10)\n",
    "    \n",
    "    # TODO: return output\n",
    "    return output_layer\n",
    "\n",
    "\n",
    "\"\"\"\n",
    "DON'T MODIFY ANYTHING IN THIS CELL THAT IS BELOW THIS LINE\n",
    "\"\"\"\n",
    "\n",
    "##############################\n",
    "## Build the Neural Network ##\n",
    "##############################\n",
    "\n",
    "# Remove previous weights, bias, inputs, etc..\n",
    "tf.reset_default_graph()\n",
    "\n",
    "# Inputs\n",
    "x = neural_net_image_input((32, 32, 3))\n",
    "y = neural_net_label_input(10)\n",
    "keep_prob = neural_net_keep_prob_input()\n",
    "\n",
    "# Model\n",
    "logits = conv_net(x, keep_prob)\n",
    "\n",
    "# Name logits Tensor, so that is can be loaded from disk after training\n",
    "logits = tf.identity(logits, name='logits')\n",
    "\n",
    "# Loss and Optimizer\n",
    "cost = tf.reduce_mean(tf.nn.softmax_cross_entropy_with_logits(logits=logits, labels=y))\n",
    "optimizer = tf.train.AdamOptimizer().minimize(cost)\n",
    "\n",
    "# Accuracy\n",
    "correct_pred = tf.equal(tf.argmax(logits, 1), tf.argmax(y, 1))\n",
    "accuracy = tf.reduce_mean(tf.cast(correct_pred, tf.float32), name='accuracy')\n",
    "\n",
    "tests.test_conv_net(conv_net)"
   ]
  },
  {
   "cell_type": "markdown",
   "metadata": {},
   "source": [
    "## Train the Neural Network\n",
    "### Single Optimization\n",
    "Implement the function `train_neural_network` to do a single optimization.  The optimization should use `optimizer` to optimize in `session` with a `feed_dict` of the following:\n",
    "* `x` for image input\n",
    "* `y` for labels\n",
    "* `keep_prob` for keep probability for dropout\n",
    "\n",
    "This function will be called for each batch, so `tf.global_variables_initializer()` has already been called.\n",
    "\n",
    "Note: Nothing needs to be returned. This function is only optimizing the neural network."
   ]
  },
  {
   "cell_type": "code",
   "execution_count": 43,
   "metadata": {},
   "outputs": [
    {
     "name": "stdout",
     "output_type": "stream",
     "text": [
      "Tests Passed\n"
     ]
    }
   ],
   "source": [
    "def train_neural_network(session, optimizer, keep_probability, feature_batch, label_batch):\n",
    "    \"\"\"\n",
    "    Optimize the session on a batch of images and labels\n",
    "    : session: Current TensorFlow session\n",
    "    : optimizer: TensorFlow optimizer function\n",
    "    : keep_probability: keep probability\n",
    "    : feature_batch: Batch of Numpy image data\n",
    "    : label_batch: Batch of Numpy label data\n",
    "    \"\"\"\n",
    "    # TODO: Implement Function\n",
    "    session.run(optimizer, \\\n",
    "                feed_dict={x: feature_batch, \\\n",
    "                           y: label_batch, \\\n",
    "                           keep_prob: keep_probability}\n",
    "               )\n",
    "\n",
    "\"\"\"\n",
    "DON'T MODIFY ANYTHING IN THIS CELL THAT IS BELOW THIS LINE\n",
    "\"\"\"\n",
    "tests.test_train_nn(train_neural_network)"
   ]
  },
  {
   "cell_type": "markdown",
   "metadata": {},
   "source": [
    "### Show Stats\n",
    "Implement the function `print_stats` to print loss and validation accuracy.  Use the global variables `valid_features` and `valid_labels` to calculate validation accuracy.  Use a keep probability of `1.0` to calculate the loss and validation accuracy."
   ]
  },
  {
   "cell_type": "code",
   "execution_count": 44,
   "metadata": {
    "collapsed": true
   },
   "outputs": [],
   "source": [
    "\n",
    "def print_stats(session, feature_batch, label_batch, cost, accuracy):\n",
    "    \"\"\"\n",
    "    Print information about loss and validation accuracy\n",
    "    : session: Current TensorFlow session\n",
    "    : feature_batch: Batch of Numpy image data\n",
    "    : label_batch: Batch of Numpy label data\n",
    "    : cost: TensorFlow cost function\n",
    "    : accuracy: TensorFlow accuracy function\n",
    "    \"\"\"\n",
    "    # TODO: Implement Function\n",
    "    loss = session.run(cost, feed_dict={x:feature_batch, \\\n",
    "                                       y: label_batch, \\\n",
    "                                       keep_prob: 1.})\n",
    "    # my computer is so slow.\n",
    "    # so, used workaround (reduce validation size) as suggested in the forum.\n",
    "    # https://discussions.udacity.com/t/tips-for-image-classification-project/238506\n",
    "    valid_accuracy = session.run(accuracy, feed_dict={x:valid_features[:100], \\\n",
    "                                                    y: valid_labels[:100], \\\n",
    "                                                    keep_prob: 1.})\n",
    "    print(\"loss : {:.4f}, validation accuracy : {:.4f}\"\n",
    "          .format(loss, valid_accuracy))\n"
   ]
  },
  {
   "cell_type": "markdown",
   "metadata": {},
   "source": [
    "### Hyperparameters\n",
    "Tune the following parameters:\n",
    "* Set `epochs` to the number of iterations until the network stops learning or start overfitting\n",
    "* Set `batch_size` to the highest number that your machine has memory for.  Most people set them to common sizes of memory:\n",
    " * 64\n",
    " * 128\n",
    " * 256\n",
    " * ...\n",
    "* Set `keep_probability` to the probability of keeping a node using dropout"
   ]
  },
  {
   "cell_type": "code",
   "execution_count": 57,
   "metadata": {
    "collapsed": true
   },
   "outputs": [],
   "source": [
    "# TODO: Tune Parameters\n",
    "epochs = 40\n",
    "batch_size = 128\n",
    "keep_probability = 0.7"
   ]
  },
  {
   "cell_type": "markdown",
   "metadata": {},
   "source": [
    "### Train on a Single CIFAR-10 Batch\n",
    "Instead of training the neural network on all the CIFAR-10 batches of data, let's use a single batch. This should save time while you iterate on the model to get a better accuracy.  Once the final validation accuracy is 50% or greater, run the model on all the data in the next section."
   ]
  },
  {
   "cell_type": "code",
   "execution_count": 58,
   "metadata": {},
   "outputs": [
    {
     "name": "stdout",
     "output_type": "stream",
     "text": [
      "Checking the Training on a Single Batch...\n",
      "Epoch  1, CIFAR-10 Batch 1:  loss : 1.8913, validation accuracy : 0.3000\n",
      "Epoch  2, CIFAR-10 Batch 1:  loss : 1.6518, validation accuracy : 0.3400\n",
      "Epoch  3, CIFAR-10 Batch 1:  loss : 1.4343, validation accuracy : 0.3900\n",
      "Epoch  4, CIFAR-10 Batch 1:  loss : 1.2586, validation accuracy : 0.3900\n",
      "Epoch  5, CIFAR-10 Batch 1:  loss : 1.0598, validation accuracy : 0.4400\n",
      "Epoch  6, CIFAR-10 Batch 1:  loss : 0.9555, validation accuracy : 0.4200\n",
      "Epoch  7, CIFAR-10 Batch 1:  loss : 0.8309, validation accuracy : 0.4000\n",
      "Epoch  8, CIFAR-10 Batch 1:  loss : 0.6571, validation accuracy : 0.4700\n",
      "Epoch  9, CIFAR-10 Batch 1:  loss : 0.5943, validation accuracy : 0.4900\n",
      "Epoch 10, CIFAR-10 Batch 1:  loss : 0.4876, validation accuracy : 0.5100\n",
      "Epoch 11, CIFAR-10 Batch 1:  loss : 0.3279, validation accuracy : 0.5000\n",
      "Epoch 12, CIFAR-10 Batch 1:  loss : 0.2752, validation accuracy : 0.4600\n",
      "Epoch 13, CIFAR-10 Batch 1:  loss : 0.2057, validation accuracy : 0.5500\n",
      "Epoch 14, CIFAR-10 Batch 1:  loss : 0.2003, validation accuracy : 0.5800\n",
      "Epoch 15, CIFAR-10 Batch 1:  loss : 0.1074, validation accuracy : 0.5900\n",
      "Epoch 16, CIFAR-10 Batch 1:  loss : 0.0852, validation accuracy : 0.5200\n",
      "Epoch 17, CIFAR-10 Batch 1:  loss : 0.0498, validation accuracy : 0.4900\n",
      "Epoch 18, CIFAR-10 Batch 1:  loss : 0.0307, validation accuracy : 0.5500\n",
      "Epoch 19, CIFAR-10 Batch 1:  loss : 0.0286, validation accuracy : 0.5200\n",
      "Epoch 20, CIFAR-10 Batch 1:  loss : 0.0389, validation accuracy : 0.5000\n",
      "Epoch 21, CIFAR-10 Batch 1:  loss : 0.0132, validation accuracy : 0.5300\n",
      "Epoch 22, CIFAR-10 Batch 1:  loss : 0.0105, validation accuracy : 0.5700\n",
      "Epoch 23, CIFAR-10 Batch 1:  loss : 0.0127, validation accuracy : 0.5300\n",
      "Epoch 24, CIFAR-10 Batch 1:  loss : 0.0134, validation accuracy : 0.5600\n",
      "Epoch 25, CIFAR-10 Batch 1:  loss : 0.0066, validation accuracy : 0.5400\n",
      "Epoch 26, CIFAR-10 Batch 1:  loss : 0.0043, validation accuracy : 0.5000\n",
      "Epoch 27, CIFAR-10 Batch 1:  loss : 0.0045, validation accuracy : 0.5400\n",
      "Epoch 28, CIFAR-10 Batch 1:  loss : 0.0026, validation accuracy : 0.6000\n",
      "Epoch 29, CIFAR-10 Batch 1:  loss : 0.0030, validation accuracy : 0.5800\n",
      "Epoch 30, CIFAR-10 Batch 1:  loss : 0.0031, validation accuracy : 0.5500\n",
      "Epoch 31, CIFAR-10 Batch 1:  loss : 0.0018, validation accuracy : 0.5900\n",
      "Epoch 32, CIFAR-10 Batch 1:  loss : 0.0019, validation accuracy : 0.5400\n",
      "Epoch 33, CIFAR-10 Batch 1:  loss : 0.0017, validation accuracy : 0.5000\n",
      "Epoch 34, CIFAR-10 Batch 1:  loss : 0.0026, validation accuracy : 0.5400\n",
      "Epoch 35, CIFAR-10 Batch 1:  loss : 0.0005, validation accuracy : 0.4900\n",
      "Epoch 36, CIFAR-10 Batch 1:  loss : 0.0016, validation accuracy : 0.5300\n",
      "Epoch 37, CIFAR-10 Batch 1:  loss : 0.0008, validation accuracy : 0.5200\n",
      "Epoch 38, CIFAR-10 Batch 1:  loss : 0.0011, validation accuracy : 0.5000\n",
      "Epoch 39, CIFAR-10 Batch 1:  loss : 0.0012, validation accuracy : 0.5600\n",
      "Epoch 40, CIFAR-10 Batch 1:  loss : 0.0006, validation accuracy : 0.5100\n"
     ]
    }
   ],
   "source": [
    "\"\"\"\n",
    "DON'T MODIFY ANYTHING IN THIS CELL\n",
    "\"\"\"\n",
    "print('Checking the Training on a Single Batch...')\n",
    "with tf.Session() as sess:\n",
    "    # Initializing the variables\n",
    "    sess.run(tf.global_variables_initializer())\n",
    "    \n",
    "    # Training cycle\n",
    "    for epoch in range(epochs):\n",
    "        batch_i = 1\n",
    "        for batch_features, batch_labels in helper.load_preprocess_training_batch(batch_i, batch_size):\n",
    "            train_neural_network(sess, optimizer, keep_probability, batch_features, batch_labels)\n",
    "        print('Epoch {:>2}, CIFAR-10 Batch {}:  '.format(epoch + 1, batch_i), end='')\n",
    "        print_stats(sess, batch_features, batch_labels, cost, accuracy)"
   ]
  },
  {
   "cell_type": "markdown",
   "metadata": {},
   "source": [
    "### Fully Train the Model\n",
    "Now that you got a good accuracy with a single CIFAR-10 batch, try it with all five batches."
   ]
  },
  {
   "cell_type": "code",
   "execution_count": 59,
   "metadata": {},
   "outputs": [
    {
     "name": "stdout",
     "output_type": "stream",
     "text": [
      "Training...\n",
      "Epoch  1, CIFAR-10 Batch 1:  loss : 1.9832, validation accuracy : 0.3100\n",
      "Epoch  1, CIFAR-10 Batch 2:  loss : 1.5986, validation accuracy : 0.3700\n",
      "Epoch  1, CIFAR-10 Batch 3:  loss : 1.2862, validation accuracy : 0.4600\n",
      "Epoch  1, CIFAR-10 Batch 4:  loss : 1.3027, validation accuracy : 0.4200\n",
      "Epoch  1, CIFAR-10 Batch 5:  loss : 1.3377, validation accuracy : 0.4800\n",
      "Epoch  2, CIFAR-10 Batch 1:  loss : 1.4711, validation accuracy : 0.4600\n",
      "Epoch  2, CIFAR-10 Batch 2:  loss : 1.1183, validation accuracy : 0.4400\n",
      "Epoch  2, CIFAR-10 Batch 3:  loss : 0.9904, validation accuracy : 0.5000\n",
      "Epoch  2, CIFAR-10 Batch 4:  loss : 1.0500, validation accuracy : 0.5000\n",
      "Epoch  2, CIFAR-10 Batch 5:  loss : 0.9639, validation accuracy : 0.5700\n",
      "Epoch  3, CIFAR-10 Batch 1:  loss : 1.2027, validation accuracy : 0.5100\n",
      "Epoch  3, CIFAR-10 Batch 2:  loss : 0.8730, validation accuracy : 0.5700\n",
      "Epoch  3, CIFAR-10 Batch 3:  loss : 0.8151, validation accuracy : 0.5600\n",
      "Epoch  3, CIFAR-10 Batch 4:  loss : 0.8167, validation accuracy : 0.5300\n",
      "Epoch  3, CIFAR-10 Batch 5:  loss : 0.7422, validation accuracy : 0.6200\n",
      "Epoch  4, CIFAR-10 Batch 1:  loss : 0.9481, validation accuracy : 0.5500\n",
      "Epoch  4, CIFAR-10 Batch 2:  loss : 0.7012, validation accuracy : 0.6000\n",
      "Epoch  4, CIFAR-10 Batch 3:  loss : 0.6395, validation accuracy : 0.6200\n",
      "Epoch  4, CIFAR-10 Batch 4:  loss : 0.6618, validation accuracy : 0.6400\n",
      "Epoch  4, CIFAR-10 Batch 5:  loss : 0.4886, validation accuracy : 0.6600\n",
      "Epoch  5, CIFAR-10 Batch 1:  loss : 0.7229, validation accuracy : 0.5600\n",
      "Epoch  5, CIFAR-10 Batch 2:  loss : 0.5564, validation accuracy : 0.6300\n",
      "Epoch  5, CIFAR-10 Batch 3:  loss : 0.4684, validation accuracy : 0.6500\n",
      "Epoch  5, CIFAR-10 Batch 4:  loss : 0.4287, validation accuracy : 0.6200\n",
      "Epoch  5, CIFAR-10 Batch 5:  loss : 0.3852, validation accuracy : 0.6800\n",
      "Epoch  6, CIFAR-10 Batch 1:  loss : 0.5133, validation accuracy : 0.6100\n",
      "Epoch  6, CIFAR-10 Batch 2:  loss : 0.4282, validation accuracy : 0.6000\n",
      "Epoch  6, CIFAR-10 Batch 3:  loss : 0.3425, validation accuracy : 0.7100\n",
      "Epoch  6, CIFAR-10 Batch 4:  loss : 0.2901, validation accuracy : 0.6300\n",
      "Epoch  6, CIFAR-10 Batch 5:  loss : 0.2572, validation accuracy : 0.6400\n",
      "Epoch  7, CIFAR-10 Batch 1:  loss : 0.3665, validation accuracy : 0.6400\n",
      "Epoch  7, CIFAR-10 Batch 2:  loss : 0.3233, validation accuracy : 0.6100\n",
      "Epoch  7, CIFAR-10 Batch 3:  loss : 0.2528, validation accuracy : 0.7100\n",
      "Epoch  7, CIFAR-10 Batch 4:  loss : 0.1896, validation accuracy : 0.6300\n",
      "Epoch  7, CIFAR-10 Batch 5:  loss : 0.1923, validation accuracy : 0.6700\n",
      "Epoch  8, CIFAR-10 Batch 1:  loss : 0.2444, validation accuracy : 0.5800\n",
      "Epoch  8, CIFAR-10 Batch 2:  loss : 0.2674, validation accuracy : 0.6100\n",
      "Epoch  8, CIFAR-10 Batch 3:  loss : 0.1813, validation accuracy : 0.6800\n",
      "Epoch  8, CIFAR-10 Batch 4:  loss : 0.1479, validation accuracy : 0.7000\n",
      "Epoch  8, CIFAR-10 Batch 5:  loss : 0.1244, validation accuracy : 0.5900\n",
      "Epoch  9, CIFAR-10 Batch 1:  loss : 0.1665, validation accuracy : 0.6200\n",
      "Epoch  9, CIFAR-10 Batch 2:  loss : 0.2030, validation accuracy : 0.6600\n",
      "Epoch  9, CIFAR-10 Batch 3:  loss : 0.1316, validation accuracy : 0.6900\n",
      "Epoch  9, CIFAR-10 Batch 4:  loss : 0.1439, validation accuracy : 0.6700\n",
      "Epoch  9, CIFAR-10 Batch 5:  loss : 0.1499, validation accuracy : 0.6500\n",
      "Epoch 10, CIFAR-10 Batch 1:  loss : 0.1356, validation accuracy : 0.7000\n",
      "Epoch 10, CIFAR-10 Batch 2:  loss : 0.1159, validation accuracy : 0.6400\n",
      "Epoch 10, CIFAR-10 Batch 3:  loss : 0.0844, validation accuracy : 0.6900\n",
      "Epoch 10, CIFAR-10 Batch 4:  loss : 0.1036, validation accuracy : 0.7000\n",
      "Epoch 10, CIFAR-10 Batch 5:  loss : 0.0555, validation accuracy : 0.6900\n",
      "Epoch 11, CIFAR-10 Batch 1:  loss : 0.0875, validation accuracy : 0.6900\n",
      "Epoch 11, CIFAR-10 Batch 2:  loss : 0.0702, validation accuracy : 0.6400\n",
      "Epoch 11, CIFAR-10 Batch 3:  loss : 0.0564, validation accuracy : 0.7000\n",
      "Epoch 11, CIFAR-10 Batch 4:  loss : 0.0657, validation accuracy : 0.7000\n",
      "Epoch 11, CIFAR-10 Batch 5:  loss : 0.0652, validation accuracy : 0.6700\n",
      "Epoch 12, CIFAR-10 Batch 1:  loss : 0.0788, validation accuracy : 0.7000\n",
      "Epoch 12, CIFAR-10 Batch 2:  loss : 0.0412, validation accuracy : 0.6700\n",
      "Epoch 12, CIFAR-10 Batch 3:  loss : 0.0432, validation accuracy : 0.6700\n",
      "Epoch 12, CIFAR-10 Batch 4:  loss : 0.0552, validation accuracy : 0.7400\n",
      "Epoch 12, CIFAR-10 Batch 5:  loss : 0.0177, validation accuracy : 0.6800\n",
      "Epoch 13, CIFAR-10 Batch 1:  loss : 0.0655, validation accuracy : 0.6800\n",
      "Epoch 13, CIFAR-10 Batch 2:  loss : 0.0400, validation accuracy : 0.6500\n",
      "Epoch 13, CIFAR-10 Batch 3:  loss : 0.0291, validation accuracy : 0.6500\n",
      "Epoch 13, CIFAR-10 Batch 4:  loss : 0.0475, validation accuracy : 0.7100\n",
      "Epoch 13, CIFAR-10 Batch 5:  loss : 0.0251, validation accuracy : 0.6700\n",
      "Epoch 14, CIFAR-10 Batch 1:  loss : 0.0461, validation accuracy : 0.7000\n",
      "Epoch 14, CIFAR-10 Batch 2:  loss : 0.0248, validation accuracy : 0.6400\n",
      "Epoch 14, CIFAR-10 Batch 3:  loss : 0.0133, validation accuracy : 0.6700\n",
      "Epoch 14, CIFAR-10 Batch 4:  loss : 0.0103, validation accuracy : 0.7100\n",
      "Epoch 14, CIFAR-10 Batch 5:  loss : 0.0181, validation accuracy : 0.6800\n",
      "Epoch 15, CIFAR-10 Batch 1:  loss : 0.0205, validation accuracy : 0.6700\n",
      "Epoch 15, CIFAR-10 Batch 2:  loss : 0.0321, validation accuracy : 0.7000\n",
      "Epoch 15, CIFAR-10 Batch 3:  loss : 0.0149, validation accuracy : 0.7500\n",
      "Epoch 15, CIFAR-10 Batch 4:  loss : 0.0080, validation accuracy : 0.7300\n",
      "Epoch 15, CIFAR-10 Batch 5:  loss : 0.0109, validation accuracy : 0.6700\n",
      "Epoch 16, CIFAR-10 Batch 1:  loss : 0.0192, validation accuracy : 0.6600\n",
      "Epoch 16, CIFAR-10 Batch 2:  loss : 0.0121, validation accuracy : 0.7500\n",
      "Epoch 16, CIFAR-10 Batch 3:  loss : 0.0143, validation accuracy : 0.7200\n",
      "Epoch 16, CIFAR-10 Batch 4:  loss : 0.0100, validation accuracy : 0.7800\n",
      "Epoch 16, CIFAR-10 Batch 5:  loss : 0.0047, validation accuracy : 0.6700\n",
      "Epoch 17, CIFAR-10 Batch 1:  loss : 0.0123, validation accuracy : 0.6800\n",
      "Epoch 17, CIFAR-10 Batch 2:  loss : 0.0156, validation accuracy : 0.6500\n",
      "Epoch 17, CIFAR-10 Batch 3:  loss : 0.0070, validation accuracy : 0.7000\n",
      "Epoch 17, CIFAR-10 Batch 4:  loss : 0.0066, validation accuracy : 0.7800\n",
      "Epoch 17, CIFAR-10 Batch 5:  loss : 0.0126, validation accuracy : 0.6700\n",
      "Epoch 18, CIFAR-10 Batch 1:  loss : 0.0201, validation accuracy : 0.7000\n",
      "Epoch 18, CIFAR-10 Batch 2:  loss : 0.0128, validation accuracy : 0.6700\n",
      "Epoch 18, CIFAR-10 Batch 3:  loss : 0.0082, validation accuracy : 0.7400\n",
      "Epoch 18, CIFAR-10 Batch 4:  loss : 0.0043, validation accuracy : 0.7900\n",
      "Epoch 18, CIFAR-10 Batch 5:  loss : 0.0037, validation accuracy : 0.6800\n",
      "Epoch 19, CIFAR-10 Batch 1:  loss : 0.0043, validation accuracy : 0.7300\n",
      "Epoch 19, CIFAR-10 Batch 2:  loss : 0.0059, validation accuracy : 0.6900\n",
      "Epoch 19, CIFAR-10 Batch 3:  loss : 0.0068, validation accuracy : 0.7100\n",
      "Epoch 19, CIFAR-10 Batch 4:  loss : 0.0029, validation accuracy : 0.7600\n",
      "Epoch 19, CIFAR-10 Batch 5:  loss : 0.0019, validation accuracy : 0.7100\n",
      "Epoch 20, CIFAR-10 Batch 1:  loss : 0.0125, validation accuracy : 0.7000\n",
      "Epoch 20, CIFAR-10 Batch 2:  loss : 0.0046, validation accuracy : 0.7000\n",
      "Epoch 20, CIFAR-10 Batch 3:  loss : 0.0043, validation accuracy : 0.6500\n",
      "Epoch 20, CIFAR-10 Batch 4:  loss : 0.0054, validation accuracy : 0.7000\n",
      "Epoch 20, CIFAR-10 Batch 5:  loss : 0.0010, validation accuracy : 0.6900\n",
      "Epoch 21, CIFAR-10 Batch 1:  loss : 0.0074, validation accuracy : 0.6600\n",
      "Epoch 21, CIFAR-10 Batch 2:  loss : 0.0135, validation accuracy : 0.6900\n",
      "Epoch 21, CIFAR-10 Batch 3:  loss : 0.0022, validation accuracy : 0.7100\n",
      "Epoch 21, CIFAR-10 Batch 4:  loss : 0.0047, validation accuracy : 0.7200\n",
      "Epoch 21, CIFAR-10 Batch 5:  loss : 0.0012, validation accuracy : 0.7000\n",
      "Epoch 22, CIFAR-10 Batch 1:  loss : 0.0059, validation accuracy : 0.6500\n",
      "Epoch 22, CIFAR-10 Batch 2:  loss : 0.0010, validation accuracy : 0.7100\n",
      "Epoch 22, CIFAR-10 Batch 3:  loss : 0.0065, validation accuracy : 0.7400\n",
      "Epoch 22, CIFAR-10 Batch 4:  loss : 0.0025, validation accuracy : 0.7800\n",
      "Epoch 22, CIFAR-10 Batch 5:  loss : 0.0044, validation accuracy : 0.7200\n",
      "Epoch 23, CIFAR-10 Batch 1:  loss : 0.0039, validation accuracy : 0.6900\n",
      "Epoch 23, CIFAR-10 Batch 2:  loss : 0.0024, validation accuracy : 0.6500\n",
      "Epoch 23, CIFAR-10 Batch 3:  loss : 0.0010, validation accuracy : 0.7100\n"
     ]
    },
    {
     "name": "stdout",
     "output_type": "stream",
     "text": [
      "Epoch 23, CIFAR-10 Batch 4:  loss : 0.0033, validation accuracy : 0.7700\n",
      "Epoch 23, CIFAR-10 Batch 5:  loss : 0.0008, validation accuracy : 0.6800\n",
      "Epoch 24, CIFAR-10 Batch 1:  loss : 0.0034, validation accuracy : 0.7600\n",
      "Epoch 24, CIFAR-10 Batch 2:  loss : 0.0016, validation accuracy : 0.6500\n",
      "Epoch 24, CIFAR-10 Batch 3:  loss : 0.0026, validation accuracy : 0.7600\n",
      "Epoch 24, CIFAR-10 Batch 4:  loss : 0.0021, validation accuracy : 0.7600\n",
      "Epoch 24, CIFAR-10 Batch 5:  loss : 0.0011, validation accuracy : 0.6700\n",
      "Epoch 25, CIFAR-10 Batch 1:  loss : 0.0057, validation accuracy : 0.6900\n",
      "Epoch 25, CIFAR-10 Batch 2:  loss : 0.0014, validation accuracy : 0.6500\n",
      "Epoch 25, CIFAR-10 Batch 3:  loss : 0.0012, validation accuracy : 0.7300\n",
      "Epoch 25, CIFAR-10 Batch 4:  loss : 0.0056, validation accuracy : 0.7300\n",
      "Epoch 25, CIFAR-10 Batch 5:  loss : 0.0013, validation accuracy : 0.6900\n",
      "Epoch 26, CIFAR-10 Batch 1:  loss : 0.0030, validation accuracy : 0.6500\n",
      "Epoch 26, CIFAR-10 Batch 2:  loss : 0.0017, validation accuracy : 0.6500\n",
      "Epoch 26, CIFAR-10 Batch 3:  loss : 0.0040, validation accuracy : 0.6700\n",
      "Epoch 26, CIFAR-10 Batch 4:  loss : 0.0012, validation accuracy : 0.7100\n",
      "Epoch 26, CIFAR-10 Batch 5:  loss : 0.0016, validation accuracy : 0.6500\n",
      "Epoch 27, CIFAR-10 Batch 1:  loss : 0.0038, validation accuracy : 0.6500\n",
      "Epoch 27, CIFAR-10 Batch 2:  loss : 0.0008, validation accuracy : 0.6300\n",
      "Epoch 27, CIFAR-10 Batch 3:  loss : 0.0023, validation accuracy : 0.7100\n",
      "Epoch 27, CIFAR-10 Batch 4:  loss : 0.0228, validation accuracy : 0.7000\n",
      "Epoch 27, CIFAR-10 Batch 5:  loss : 0.0010, validation accuracy : 0.6800\n",
      "Epoch 28, CIFAR-10 Batch 1:  loss : 0.0010, validation accuracy : 0.7100\n",
      "Epoch 28, CIFAR-10 Batch 2:  loss : 0.0015, validation accuracy : 0.6600\n",
      "Epoch 28, CIFAR-10 Batch 3:  loss : 0.0018, validation accuracy : 0.7400\n",
      "Epoch 28, CIFAR-10 Batch 4:  loss : 0.0107, validation accuracy : 0.6600\n",
      "Epoch 28, CIFAR-10 Batch 5:  loss : 0.0012, validation accuracy : 0.6800\n",
      "Epoch 29, CIFAR-10 Batch 1:  loss : 0.0100, validation accuracy : 0.6500\n",
      "Epoch 29, CIFAR-10 Batch 2:  loss : 0.0009, validation accuracy : 0.6800\n",
      "Epoch 29, CIFAR-10 Batch 3:  loss : 0.0034, validation accuracy : 0.6700\n",
      "Epoch 29, CIFAR-10 Batch 4:  loss : 0.0500, validation accuracy : 0.7100\n",
      "Epoch 29, CIFAR-10 Batch 5:  loss : 0.0281, validation accuracy : 0.6300\n",
      "Epoch 30, CIFAR-10 Batch 1:  loss : 0.0007, validation accuracy : 0.6800\n",
      "Epoch 30, CIFAR-10 Batch 2:  loss : 0.0041, validation accuracy : 0.7000\n",
      "Epoch 30, CIFAR-10 Batch 3:  loss : 0.0001, validation accuracy : 0.7200\n",
      "Epoch 30, CIFAR-10 Batch 4:  loss : 0.0135, validation accuracy : 0.7500\n",
      "Epoch 30, CIFAR-10 Batch 5:  loss : 0.0009, validation accuracy : 0.6400\n",
      "Epoch 31, CIFAR-10 Batch 1:  loss : 0.0005, validation accuracy : 0.7000\n",
      "Epoch 31, CIFAR-10 Batch 2:  loss : 0.0008, validation accuracy : 0.7200\n",
      "Epoch 31, CIFAR-10 Batch 3:  loss : 0.0005, validation accuracy : 0.7200\n",
      "Epoch 31, CIFAR-10 Batch 4:  loss : 0.0010, validation accuracy : 0.7400\n",
      "Epoch 31, CIFAR-10 Batch 5:  loss : 0.0013, validation accuracy : 0.6900\n",
      "Epoch 32, CIFAR-10 Batch 1:  loss : 0.0031, validation accuracy : 0.7000\n",
      "Epoch 32, CIFAR-10 Batch 2:  loss : 0.0018, validation accuracy : 0.6900\n",
      "Epoch 32, CIFAR-10 Batch 3:  loss : 0.0007, validation accuracy : 0.7500\n",
      "Epoch 32, CIFAR-10 Batch 4:  loss : 0.0018, validation accuracy : 0.7700\n",
      "Epoch 32, CIFAR-10 Batch 5:  loss : 0.0026, validation accuracy : 0.6900\n",
      "Epoch 33, CIFAR-10 Batch 1:  loss : 0.0015, validation accuracy : 0.7400\n",
      "Epoch 33, CIFAR-10 Batch 2:  loss : 0.0028, validation accuracy : 0.7000\n",
      "Epoch 33, CIFAR-10 Batch 3:  loss : 0.0010, validation accuracy : 0.7600\n",
      "Epoch 33, CIFAR-10 Batch 4:  loss : 0.0002, validation accuracy : 0.6800\n",
      "Epoch 33, CIFAR-10 Batch 5:  loss : 0.0017, validation accuracy : 0.6100\n",
      "Epoch 34, CIFAR-10 Batch 1:  loss : 0.0010, validation accuracy : 0.6800\n",
      "Epoch 34, CIFAR-10 Batch 2:  loss : 0.0014, validation accuracy : 0.7600\n",
      "Epoch 34, CIFAR-10 Batch 3:  loss : 0.0002, validation accuracy : 0.7100\n",
      "Epoch 34, CIFAR-10 Batch 4:  loss : 0.0002, validation accuracy : 0.7200\n",
      "Epoch 34, CIFAR-10 Batch 5:  loss : 0.0019, validation accuracy : 0.6700\n",
      "Epoch 35, CIFAR-10 Batch 1:  loss : 0.0012, validation accuracy : 0.6400\n",
      "Epoch 35, CIFAR-10 Batch 2:  loss : 0.0001, validation accuracy : 0.6600\n",
      "Epoch 35, CIFAR-10 Batch 3:  loss : 0.0007, validation accuracy : 0.7200\n",
      "Epoch 35, CIFAR-10 Batch 4:  loss : 0.0003, validation accuracy : 0.6500\n",
      "Epoch 35, CIFAR-10 Batch 5:  loss : 0.0013, validation accuracy : 0.6400\n",
      "Epoch 36, CIFAR-10 Batch 1:  loss : 0.0010, validation accuracy : 0.6900\n",
      "Epoch 36, CIFAR-10 Batch 2:  loss : 0.0010, validation accuracy : 0.6400\n",
      "Epoch 36, CIFAR-10 Batch 3:  loss : 0.0009, validation accuracy : 0.6900\n",
      "Epoch 36, CIFAR-10 Batch 4:  loss : 0.0003, validation accuracy : 0.6700\n",
      "Epoch 36, CIFAR-10 Batch 5:  loss : 0.0028, validation accuracy : 0.7200\n",
      "Epoch 37, CIFAR-10 Batch 1:  loss : 0.0008, validation accuracy : 0.6800\n",
      "Epoch 37, CIFAR-10 Batch 2:  loss : 0.0001, validation accuracy : 0.6800\n",
      "Epoch 37, CIFAR-10 Batch 3:  loss : 0.0024, validation accuracy : 0.7600\n",
      "Epoch 37, CIFAR-10 Batch 4:  loss : 0.0029, validation accuracy : 0.7200\n",
      "Epoch 37, CIFAR-10 Batch 5:  loss : 0.0014, validation accuracy : 0.6900\n",
      "Epoch 38, CIFAR-10 Batch 1:  loss : 0.0008, validation accuracy : 0.6800\n",
      "Epoch 38, CIFAR-10 Batch 2:  loss : 0.0092, validation accuracy : 0.7400\n",
      "Epoch 38, CIFAR-10 Batch 3:  loss : 0.0014, validation accuracy : 0.7100\n",
      "Epoch 38, CIFAR-10 Batch 4:  loss : 0.0005, validation accuracy : 0.7400\n",
      "Epoch 38, CIFAR-10 Batch 5:  loss : 0.0005, validation accuracy : 0.7000\n",
      "Epoch 39, CIFAR-10 Batch 1:  loss : 0.0036, validation accuracy : 0.7100\n",
      "Epoch 39, CIFAR-10 Batch 2:  loss : 0.0007, validation accuracy : 0.7100\n",
      "Epoch 39, CIFAR-10 Batch 3:  loss : 0.0004, validation accuracy : 0.7000\n",
      "Epoch 39, CIFAR-10 Batch 4:  loss : 0.0006, validation accuracy : 0.6800\n",
      "Epoch 39, CIFAR-10 Batch 5:  loss : 0.0029, validation accuracy : 0.6600\n",
      "Epoch 40, CIFAR-10 Batch 1:  loss : 0.0022, validation accuracy : 0.6600\n",
      "Epoch 40, CIFAR-10 Batch 2:  loss : 0.0005, validation accuracy : 0.7100\n",
      "Epoch 40, CIFAR-10 Batch 3:  loss : 0.0006, validation accuracy : 0.6800\n",
      "Epoch 40, CIFAR-10 Batch 4:  loss : 0.0005, validation accuracy : 0.6500\n",
      "Epoch 40, CIFAR-10 Batch 5:  loss : 0.0018, validation accuracy : 0.7000\n"
     ]
    }
   ],
   "source": [
    "\"\"\"\n",
    "DON'T MODIFY ANYTHING IN THIS CELL\n",
    "\"\"\"\n",
    "save_model_path = './image_classification'\n",
    "\n",
    "print('Training...')\n",
    "with tf.Session() as sess:\n",
    "    # Initializing the variables\n",
    "    sess.run(tf.global_variables_initializer())\n",
    "    \n",
    "    # Training cycle\n",
    "    for epoch in range(epochs):\n",
    "        # Loop over all batches\n",
    "        n_batches = 5\n",
    "        for batch_i in range(1, n_batches + 1):\n",
    "            for batch_features, batch_labels in helper.load_preprocess_training_batch(batch_i, batch_size):\n",
    "                train_neural_network(sess, optimizer, keep_probability, batch_features, batch_labels)\n",
    "            print('Epoch {:>2}, CIFAR-10 Batch {}:  '.format(epoch + 1, batch_i), end='')\n",
    "            print_stats(sess, batch_features, batch_labels, cost, accuracy)\n",
    "            \n",
    "    # Save Model\n",
    "    saver = tf.train.Saver()\n",
    "    save_path = saver.save(sess, save_model_path)"
   ]
  },
  {
   "cell_type": "markdown",
   "metadata": {},
   "source": [
    "# Checkpoint\n",
    "The model has been saved to disk.\n",
    "## Test Model\n",
    "Test your model against the test dataset.  This will be your final accuracy. You should have an accuracy greater than 50%. If you don't, keep tweaking the model architecture and parameters."
   ]
  },
  {
   "cell_type": "code",
   "execution_count": 60,
   "metadata": {},
   "outputs": [
    {
     "name": "stdout",
     "output_type": "stream",
     "text": [
      "INFO:tensorflow:Restoring parameters from ./image_classification\n",
      "Testing Accuracy: 0.718057753164557\n",
      "\n"
     ]
    },
    {
     "data": {
      "image/png": "[encoded data removed]",
      "text/plain": [
       "<matplotlib.figure.Figure at 0x10f1bccf8>"
      ]
     },
     "metadata": {
      "image/png": {
       "height": 319,
       "width": 349
      }
     },
     "output_type": "display_data"
    }
   ],
   "source": [
    "\"\"\"\n",
    "DON'T MODIFY ANYTHING IN THIS CELL\n",
    "\"\"\"\n",
    "%matplotlib inline\n",
    "%config InlineBackend.figure_format = 'retina'\n",
    "\n",
    "import tensorflow as tf\n",
    "import pickle\n",
    "import helper\n",
    "import random\n",
    "\n",
    "# Set batch size if not already set\n",
    "try:\n",
    "    if batch_size:\n",
    "        pass\n",
    "except NameError:\n",
    "    batch_size = 64\n",
    "\n",
    "save_model_path = './image_classification'\n",
    "n_samples = 4\n",
    "top_n_predictions = 3\n",
    "\n",
    "def test_model():\n",
    "    \"\"\"\n",
    "    Test the saved model against the test dataset\n",
    "    \"\"\"\n",
    "\n",
    "    test_features, test_labels = pickle.load(open('preprocess_training.p', mode='rb'))\n",
    "    loaded_graph = tf.Graph()\n",
    "\n",
    "    with tf.Session(graph=loaded_graph) as sess:\n",
    "        # Load model\n",
    "        loader = tf.train.import_meta_graph(save_model_path + '.meta')\n",
    "        loader.restore(sess, save_model_path)\n",
    "\n",
    "        # Get Tensors from loaded model\n",
    "        loaded_x = loaded_graph.get_tensor_by_name('x:0')\n",
    "        loaded_y = loaded_graph.get_tensor_by_name('y:0')\n",
    "        loaded_keep_prob = loaded_graph.get_tensor_by_name('keep_prob:0')\n",
    "        loaded_logits = loaded_graph.get_tensor_by_name('logits:0')\n",
    "        loaded_acc = loaded_graph.get_tensor_by_name('accuracy:0')\n",
    "        \n",
    "        # Get accuracy in batches for memory limitations\n",
    "        test_batch_acc_total = 0\n",
    "        test_batch_count = 0\n",
    "        \n",
    "        for train_feature_batch, train_label_batch in helper.batch_features_labels(test_features, test_labels, batch_size):\n",
    "            test_batch_acc_total += sess.run(\n",
    "                loaded_acc,\n",
    "                feed_dict={loaded_x: train_feature_batch, loaded_y: train_label_batch, loaded_keep_prob: 1.0})\n",
    "            test_batch_count += 1\n",
    "\n",
    "        print('Testing Accuracy: {}\\n'.format(test_batch_acc_total/test_batch_count))\n",
    "\n",
    "        # Print Random Samples\n",
    "        random_test_features, random_test_labels = tuple(zip(*random.sample(list(zip(test_features, test_labels)), n_samples)))\n",
    "        random_test_predictions = sess.run(\n",
    "            tf.nn.top_k(tf.nn.softmax(loaded_logits), top_n_predictions),\n",
    "            feed_dict={loaded_x: random_test_features, loaded_y: random_test_labels, loaded_keep_prob: 1.0})\n",
    "        helper.display_image_predictions(random_test_features, random_test_labels, random_test_predictions)\n",
    "\n",
    "\n",
    "test_model()"
   ]
  },
  {
   "cell_type": "markdown",
   "metadata": {},
   "source": [
    "## Why 50-80% Accuracy?\n",
    "You might be wondering why you can't get an accuracy any higher. First things first, 50% isn't bad for a simple CNN.  Pure guessing would get you 10% accuracy. That's because there are many more techniques that can be applied to your model and we recemmond that once you are done with this project, you explore!\n",
    "\n",
    "## Submitting This Project\n",
    "When submitting this project, make sure to run all the cells before saving the notebook.  Save the notebook file as \"image_classification.ipynb\" and save it as a HTML file under \"File\" -> \"Download as\".  Include the \"helper.py\" and \"problem_unittests.py\" files in your submission."
   ]
  }
 ],
 "metadata": {
  "kernelspec": {
   "display_name": "Python 3",
   "language": "python",
   "name": "python3"
  },
  "language_info": {
   "codemirror_mode": {
    "name": "ipython",
    "version": 3
   },
   "file_extension": ".py",
   "mimetype": "text/x-python",
   "name": "python",
   "nbconvert_exporter": "python",
   "pygments_lexer": "ipython3",
   "version": "3.5.3"
  }
 },
 "nbformat": 4,
 "nbformat_minor": 1
}
